{
  "nbformat": 4,
  "nbformat_minor": 0,
  "metadata": {
    "colab": {
      "provenance": [],
      "authorship_tag": "ABX9TyMF4EyfAz+lvnRhg8my/u5q",
      "include_colab_link": true
    },
    "kernelspec": {
      "name": "python3",
      "display_name": "Python 3"
    },
    "language_info": {
      "name": "python"
    }
  },
  "cells": [
    {
      "cell_type": "markdown",
      "metadata": {
        "id": "view-in-github",
        "colab_type": "text"
      },
      "source": [
        "<a href=\"https://colab.research.google.com/github/Bellezatabaskena/IngSoftware/blob/main/MetodoHeuristico.ipynb\" target=\"_parent\"><img src=\"https://colab.research.google.com/assets/colab-badge.svg\" alt=\"Open In Colab\"/></a>"
      ]
    },
    {
      "cell_type": "code",
      "execution_count": 15,
      "metadata": {
        "colab": {
          "base_uri": "https://localhost:8080/"
        },
        "id": "RCH9FiA_Hdx8",
        "outputId": "e6583d13-a340-47e6-846b-a8479c4d3277"
      },
      "outputs": [
        {
          "output_type": "stream",
          "name": "stdout",
          "text": [
            "Mejor Solución: [1, 19, 9, 12, 3, 14, 10, 25, 21, 16, 13, 17, 2, 4, 8, 11, 5, 0, 7, 15, 22, 6, 24, 18, 23, 20]: 10392.597580932003\n"
          ]
        }
      ],
      "source": [
        "from random import Random\n",
        "from time import time\n",
        "import math\n",
        "import inspyred\n",
        "def main(prng=None, display=False):\n",
        " if prng is None:\n",
        "    prng = Random()\n",
        " prng.seed(time())\n",
        " points = [(1149.0, 1761.0), (629.0, 1660.0), (41.0, 2091.0), (649.0, 1101.0),\n",
        " (749.0, 2031.0), (1030.0, 2069.0), (1649.0, 651.0), (1488.0, 1625.0),\n",
        " (787.0, 2261.0), (709.0, 1312.0), (842.0, 551.0), (1155.0, 2319.0),\n",
        " (900.0, 1350.0), (505.0, 710.0), (650.0, 920.0), (1380.0, 1200.0),\n",
        " (199.0, 590.0), (365.0, 860.0), (1030.0, 960.0), (580.0, 1390.0),\n",
        " (835.0, 1785.0), (491.0, 514.0), (1890.0, 1220.0), (1250.0, 1600.0),\n",
        " (1290.0, 795.0), (495.0, 211.0)]\n",
        " weights = [[0 for _ in range(len(points))] for _ in range(len(points))]\n",
        " for i, p in enumerate(points):\n",
        "   for j, q in enumerate(points):\n",
        "    weights[i][j] = math.sqrt((p[0] - q[0])**2 + (p[1] - q[1])**2)\n",
        "\n",
        " problem = inspyred.benchmarks.TSP(weights)\n",
        " ea = inspyred.ec.EvolutionaryComputation(prng)\n",
        " ea.selector = inspyred.ec.selectors.tournament_selection\n",
        " ea.variator = [inspyred.ec.variators.partially_matched_crossover,\n",
        " inspyred.ec.variators.inversion_mutation]\n",
        " ea.replacer = inspyred.ec.replacers.generational_replacement\n",
        " ea.terminator = inspyred.ec.terminators.generation_termination\n",
        " final_pop = ea.evolve(generator=problem.generator,\n",
        " evaluator=problem.evaluator,\n",
        " bounder=problem.bounder,\n",
        " maximize=problem.maximize,\n",
        " pop_size=100,\n",
        " max_generations=50,\n",
        " tournament_size=5,\n",
        " num_selected=100,\n",
        " num_elites=1)\n",
        " if display:\n",
        "  best = max(ea.population)\n",
        " print('Mejor Solución: {0}: {1}'.format(str(best.candidate), 1/best.fitness))\n",
        " return ea\n",
        "\n",
        "if __name__ == '__main__':\n",
        " main(display=True)"
      ]
    },
    {
      "cell_type": "code",
      "source": [
        "!pip install inspyred"
      ],
      "metadata": {
        "colab": {
          "base_uri": "https://localhost:8080/"
        },
        "id": "_P0zMzzWJYRZ",
        "outputId": "8a2d4bda-d0f6-4e6e-b29c-7e7e67c72c7c"
      },
      "execution_count": 2,
      "outputs": [
        {
          "output_type": "stream",
          "name": "stdout",
          "text": [
            "Collecting inspyred\n",
            "  Downloading inspyred-1.0.2-py2.py3-none-any.whl (74 kB)\n",
            "\u001b[?25l     \u001b[90m━━━━━━━━━━━━━━━━━━━━━━━━━━━━━━━━━━━━━━━━\u001b[0m \u001b[32m0.0/74.4 kB\u001b[0m \u001b[31m?\u001b[0m eta \u001b[36m-:--:--\u001b[0m\r\u001b[2K     \u001b[91m━━━━━━━━━━━━━━━━━━━━━━━━━━━━━━━━━━━━━━\u001b[0m\u001b[91m╸\u001b[0m\u001b[90m━\u001b[0m \u001b[32m71.7/74.4 kB\u001b[0m \u001b[31m2.5 MB/s\u001b[0m eta \u001b[36m0:00:01\u001b[0m\r\u001b[2K     \u001b[90m━━━━━━━━━━━━━━━━━━━━━━━━━━━━━━━━━━━━━━━━\u001b[0m \u001b[32m74.4/74.4 kB\u001b[0m \u001b[31m1.9 MB/s\u001b[0m eta \u001b[36m0:00:00\u001b[0m\n",
            "\u001b[?25hRequirement already satisfied: Click>=6.0 in /usr/local/lib/python3.10/dist-packages (from inspyred) (8.1.7)\n",
            "Requirement already satisfied: numpy in /usr/local/lib/python3.10/dist-packages (from inspyred) (1.23.5)\n",
            "Installing collected packages: inspyred\n",
            "Successfully installed inspyred-1.0.2\n"
          ]
        }
      ]
    }
  ]
}