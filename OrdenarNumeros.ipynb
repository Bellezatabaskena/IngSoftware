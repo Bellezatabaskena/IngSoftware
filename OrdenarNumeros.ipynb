{
  "nbformat": 4,
  "nbformat_minor": 0,
  "metadata": {
    "colab": {
      "provenance": [],
      "authorship_tag": "ABX9TyM+pVyVtSINaiCm+JiI3t7H",
      "include_colab_link": true
    },
    "kernelspec": {
      "name": "python3",
      "display_name": "Python 3"
    },
    "language_info": {
      "name": "python"
    }
  },
  "cells": [
    {
      "cell_type": "markdown",
      "metadata": {
        "id": "view-in-github",
        "colab_type": "text"
      },
      "source": [
        "<a href=\"https://colab.research.google.com/github/Bellezatabaskena/IngSoftware/blob/main/OrdenarNumeros.ipynb\" target=\"_parent\"><img src=\"https://colab.research.google.com/assets/colab-badge.svg\" alt=\"Open In Colab\"/></a>"
      ]
    },
    {
      "cell_type": "code",
      "execution_count": 8,
      "metadata": {
        "colab": {
          "base_uri": "https://localhost:8080/"
        },
        "id": "PXC6HICjhscH",
        "outputId": "50baa85a-614d-4878-b6f9-863e6ce37a50"
      },
      "outputs": [
        {
          "output_type": "stream",
          "name": "stdout",
          "text": [
            "* * * * * * * * * * * * * * * * * * * * * * * * * * * * * * * * * * * * * * * * * * * * \n",
            "Hola,cual es tu nombre?: Perla\n",
            "* * * * * * * * * * * * * * * * * * * * * * * * * * * * * * * * * * * * * * * * * * * * \n",
            "Por favor ingresa la serie de numeros enteros o decimales separados por un espacio: 45.33 87.65\n",
            "Bienvenido al Ordenador de Numeros  Perla\n",
            "\n",
            "Orden Ascendente: [45.33, 87.65]\n",
            "Orden Descendente: [87.65, 45.33]\n",
            "* * * * * * * * * * * * * * * * * * * * * * * * * * * * * * * * * * * * * * * * * * * * \n"
          ]
        }
      ],
      "source": [
        "print(\"* * * * * * * * * * * * * * * * * * * * * * * * * * * * * * * * * * * * * * * * * * * * \")\n",
        "# Aqui se le pide al usuario ingresar numeros separados por espacio\n",
        "usuario  = input(\"Hola,cual es tu nombre?: \")\n",
        "\n",
        "print(\"* * * * * * * * * * * * * * * * * * * * * * * * * * * * * * * * * * * * * * * * * * * * \")\n",
        "lista  = input(\"Por favor ingresa la serie de numeros enteros o decimales separados por un espacio: \")\n",
        "print(\"Bienvenido al Ordenador de Numeros  \" + (usuario) + \"\\n\");\n",
        "# Aqui separa los numeros enteros o decimales y los almacena en una lista\n",
        "numeros = [float(x) for x in lista.split()]\n",
        "\n",
        "# Ordena de manera ascendente\n",
        "numeros_ordenados = sorted(numeros)\n",
        "\n",
        "# Ordena en manera descendente utilizando reverse\n",
        "numeros_ordenados_reversa = sorted(numeros, reverse=True)\n",
        "\n",
        "# Muestra las listas en orden ascendente y descendente\n",
        "print(\"Orden Ascendente:\", numeros_ordenados)\n",
        "print(\"Orden Descendente:\", numeros_ordenados_reversa)\n",
        "print(\"* * * * * * * * * * * * * * * * * * * * * * * * * * * * * * * * * * * * * * * * * * * * \")\n"
      ]
    }
  ]
}