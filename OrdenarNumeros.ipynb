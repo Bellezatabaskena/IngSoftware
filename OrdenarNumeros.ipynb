{
  "nbformat": 4,
  "nbformat_minor": 0,
  "metadata": {
    "colab": {
      "provenance": [],
      "authorship_tag": "ABX9TyMt0Q6cczbzLx1A6laQsmK+",
      "include_colab_link": true
    },
    "kernelspec": {
      "name": "python3",
      "display_name": "Python 3"
    },
    "language_info": {
      "name": "python"
    }
  },
  "cells": [
    {
      "cell_type": "markdown",
      "metadata": {
        "id": "view-in-github",
        "colab_type": "text"
      },
      "source": [
        "<a href=\"https://colab.research.google.com/github/Bellezatabaskena/IngSoftware/blob/main/OrdenarNumeros.ipynb\" target=\"_parent\"><img src=\"https://colab.research.google.com/assets/colab-badge.svg\" alt=\"Open In Colab\"/></a>"
      ]
    },
    {
      "cell_type": "code",
      "execution_count": 5,
      "metadata": {
        "colab": {
          "base_uri": "https://localhost:8080/"
        },
        "id": "PXC6HICjhscH",
        "outputId": "aa6a81e5-ef0f-4f08-ba60-9bf4c8af1d1b"
      },
      "outputs": [
        {
          "output_type": "stream",
          "name": "stdout",
          "text": [
            "* * * * * * * * * * * * * * * * * * * * * * * * * * * * * * * * * * * * * * * * * * * * \n",
            "Hola,cual es tu nombre?: Perla Mendo Lopez\n",
            "Bienvenido al Ordenador de Numeros  Perla Mendo Lopez\n",
            "\n",
            "* * * * * * * * * * * * * * * * * * * * * * * * * * * * * * * * * * * * * * * * * * * * \n",
            "Por favor ingresa la serie de numeros enteros o decimales separados por un espacio: 55.33 76.32 86.33 \n",
            "Orden Ascendente: [55.33, 76.32, 86.33]\n",
            "Orden Descendente: [86.33, 76.32, 55.33]\n",
            "* * * * * * * * * * * * * * * * * * * * * * * * * * * * * * * * * * * * * * * * * * * * \n"
          ]
        }
      ],
      "source": [
        "print(\"* * * * * * * * * * * * * * * * * * * * * * * * * * * * * * * * * * * * * * * * * * * * \")\n",
        "# Aqui se le pide al usuario ingresar numeros separados por espacio\n",
        "usuario  = input(\"Hola,cual es tu nombre?: \")\n",
        "print(\"Bienvenido al Ordenador de Numeros  \" + (usuario) + \"\\n\");\n",
        "print(\"* * * * * * * * * * * * * * * * * * * * * * * * * * * * * * * * * * * * * * * * * * * * \")\n",
        "usuario  = input(\"Por favor ingresa la serie de numeros enteros o decimales separados por un espacio: \")\n",
        "\n",
        "# Aqui separa los numeros enteros o decimales y los almacena en una lista\n",
        "numeros = [float(x) for x in usuario.split()]\n",
        "\n",
        "# Ordena de manera ascendente\n",
        "numeros_ordenados = sorted(numeros)\n",
        "\n",
        "# Ordena en manera descendente utilizando reverse\n",
        "numeros_ordenados_reversa = sorted(numeros, reverse=True)\n",
        "\n",
        "# Muestra las listas en orden ascendente y descendente\n",
        "print(\"Orden Ascendente:\", numeros_ordenados)\n",
        "print(\"Orden Descendente:\", numeros_ordenados_reversa)\n",
        "print(\"* * * * * * * * * * * * * * * * * * * * * * * * * * * * * * * * * * * * * * * * * * * * \")\n"
      ]
    }
  ]
}