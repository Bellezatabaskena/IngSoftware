{
  "nbformat": 4,
  "nbformat_minor": 0,
  "metadata": {
    "colab": {
      "provenance": [],
      "authorship_tag": "ABX9TyPLEQkLRng+a9fGxmYwxIZL",
      "include_colab_link": true
    },
    "kernelspec": {
      "name": "python3",
      "display_name": "Python 3"
    },
    "language_info": {
      "name": "python"
    }
  },
  "cells": [
    {
      "cell_type": "markdown",
      "metadata": {
        "id": "view-in-github",
        "colab_type": "text"
      },
      "source": [
        "<a href=\"https://colab.research.google.com/github/Bellezatabaskena/IngSoftware/blob/main/OrdenarNumeros.ipynb\" target=\"_parent\"><img src=\"https://colab.research.google.com/assets/colab-badge.svg\" alt=\"Open In Colab\"/></a>"
      ]
    },
    {
      "cell_type": "code",
      "execution_count": 15,
      "metadata": {
        "colab": {
          "base_uri": "https://localhost:8080/"
        },
        "id": "PXC6HICjhscH",
        "outputId": "d2cebd9c-e1b5-4455-81a6-e398edddd356"
      },
      "outputs": [
        {
          "output_type": "stream",
          "name": "stdout",
          "text": [
            "* * * * * * * * * * * * * * * * * * * * * * * * * * * * * * * * * * * * * * * * * * * * \n",
            "Hola,cual es tu nombre?: Perla\n",
            "* * * * * * * * * * * * * * * * * * * * * * * * * * * * * * * * * * * * * * * * * * * * \n",
            "Por favor ingresa una serie de 5 numeros, enteros o decimales, separados por un espacio: 56.0 78.1 45.3 12.58 56.12 54.36 89.33\n",
            "Bienvenido al Ordenador de Numeros  Perla\n",
            "\n",
            "Por favor introduce 5 numeros\n",
            "Orden Ascendente: [54.15, 63.21, 78.11, 78.33, 96.45]\n",
            "Orden Descendente: [96.45, 78.33, 78.11, 63.21, 54.15]\n",
            "* * * * * * * * * * * * * * * * * * * * * * * * * * * * * * * * * * * * * * * * * * * * \n"
          ]
        }
      ],
      "source": [
        "print(\"* * * * * * * * * * * * * * * * * * * * * * * * * * * * * * * * * * * * * * * * * * * * \")\n",
        "# Aqui se le pide al usuario ingresar numeros separados por espacio\n",
        "usuario  = input(\"Hola,cual es tu nombre?: \")\n",
        "\n",
        "print(\"* * * * * * * * * * * * * * * * * * * * * * * * * * * * * * * * * * * * * * * * * * * * \")\n",
        "lista  = input(\"Por favor ingresa una serie de 5 numeros, enteros o decimales, separados por un espacio: \")\n",
        "print(\"Bienvenido al Ordenador de Numeros  \" + (usuario) + \"\\n\");\n",
        "# Aqui separa los numeros enteros o decimales y los almacena en una lista\n",
        "numeros = [float(x) for x in lista.split()]\n",
        "# utilizando la funcion lenght, indicamos la cantidad o el tamaño del arreglo, y lo p\n",
        "if len(numeros) != 5:\n",
        "    print(\"Por favor introduce 5 numeros\")\n",
        "else:\n",
        "   # Ordena de manera ascendente\n",
        "    numeros_ordenados = sorted(numeros)\n",
        "\n",
        "   # Ordena en manera descendente utilizando reverse\n",
        "    numeros_ordenados_reversa = sorted(numeros, reverse=True)\n",
        "\n",
        "# Muestra las listas en orden ascendente y descendente\n",
        "print(\"Orden Ascendente:\", numeros_ordenados)\n",
        "print(\"Orden Descendente:\", numeros_ordenados_reversa)\n",
        "print(\"* * * * * * * * * * * * * * * * * * * * * * * * * * * * * * * * * * * * * * * * * * * * \")\n"
      ]
    }
  ]
}